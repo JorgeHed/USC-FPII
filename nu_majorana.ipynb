{
 "cells": [
  {
   "cell_type": "markdown",
   "metadata": {
    "slideshow": {
     "slide_type": "slide"
    }
   },
   "source": [
    "# Particle Physics - Majorana Neutrinos\n",
    "\n",
    " \n",
    "## Universidade de Santiago \n",
    "\n",
    "\n",
    "Jose A. Hernando\n",
    "\n",
    "*Departamento de Física de Partículas. Universidade de Santiago de Compostela*\n",
    "\n",
    "February 2020\n"
   ]
  },
  {
   "cell_type": "code",
   "execution_count": 4,
   "metadata": {
    "slideshow": {
     "slide_type": "fragment"
    }
   },
   "outputs": [
    {
     "name": "stdout",
     "output_type": "stream",
     "text": [
      " Last version  Thu Feb 20 17:10:03 2020\n"
     ]
    }
   ],
   "source": [
    "import time\n",
    "print(' Last version ', time.asctime() )"
   ]
  },
  {
   "cell_type": "code",
   "execution_count": 9,
   "metadata": {
    "slideshow": {
     "slide_type": "slide"
    }
   },
   "outputs": [],
   "source": [
    "# general imports\n",
    "%matplotlib inline\n",
    "%reload_ext autoreload\n",
    "%autoreload 2\n",
    " \n",
    "# numpy and matplotlib\n",
    "import numpy as np\n",
    "import pandas as pd\n",
    "import matplotlib.pyplot as plt\n",
    "import scipy.stats     as stats\n",
    "import scipy.constants as units\n",
    "\n",
    "plt.style.context('seaborn-colorblind');"
   ]
  },
  {
   "cell_type": "markdown",
   "metadata": {
    "slideshow": {
     "slide_type": "slide"
    }
   },
   "source": [
    "*About*\n",
    "\n",
    "The relation between neutrino oscillations and masses.\n",
    "\n",
    "The Majorana neutrino.\n",
    "\n",
    "The search for Majorana neutrinos.\n",
    "\n"
   ]
  },
  {
   "cell_type": "markdown",
   "metadata": {
    "slideshow": {
     "slide_type": "slide"
    }
   },
   "source": [
    "## Introduction\n"
   ]
  },
  {
   "cell_type": "markdown",
   "metadata": {
    "slideshow": {
     "slide_type": "slide"
    }
   },
   "source": [
    "## Relation of neutrino mixing and masses"
   ]
  },
  {
   "cell_type": "markdown",
   "metadata": {
    "slideshow": {
     "slide_type": "slide"
    }
   },
   "source": [
    "\n",
    "\n",
    "Consider the three families lepton flavour states, $l'_i,\\nu'_i, \\; i=1,2,3$, the left-chircal components doublets $L'_i$ and the right-chiral singlets $l'_R$, including $\\nu'_{i, R}$:\n",
    "\n",
    "The Dirac mass lagrangian via de Yukawa couplings with the Higgs doublet $\\Phi$ and its conjugate $\\tilde{\\Phi}$:\n",
    "\n",
    "$$\n",
    "-\\mathcal{L}_m = \\sum_{i,j=1}^3 \\bar{L}'_j \\Phi l'_R + \\lambda^\\nu_{ij} \\bar{L}'_j \\tilde{\\Phi} \\nu'_R + \\mathrm{hc}\n",
    "$$\n",
    "\n",
    "After SSB:\n",
    "$$\n",
    "-\\mathcal{L}_m = \\frac{v}{\\sqrt{2}} \\left( {\\bf \\lambda}_l \\bar{{\\bf l}}'_L {\\bf l'}_R + \\lambda_\\nu \\bar{{\\bf \\nu}}'_L {\\bf \\nu}'_R + \\mathrm{hc} \\right)\n",
    "$$\n",
    "\n",
    "where $\\lambda_l, \\, \\lambda_\\nu$ are $3\\times3$ complex matrices."
   ]
  },
  {
   "cell_type": "markdown",
   "metadata": {
    "slideshow": {
     "slide_type": "slide"
    }
   },
   "source": [
    "The $\\lambda_\\alpha$ matrix can be diagonalized with real values in the diagonal, $M_\\alpha$ via a bi-unitary transformation $V_\\alpha, \\,U_\\alpha$, with $\\alpha = l, \\, \\nu$:\n",
    "\n",
    "$$\n",
    "\\lambda_\\alpha = U^\\dagger_\\alpha \\, M_\\alpha V_\\alpha\n",
    "$$\n",
    "\n",
    "We can relate the weak states to the mass states via:\n",
    "\n",
    "$$\n",
    "  l_L = U_l \\, l'_L, \\,\\; \\nu_L = U_\\nu \\, \\nu'_L \\\\\n",
    "  l_R = V_l \\, l'_R, \\,\\; \\nu_R = V_\\nu \\, \\nu'_R\n",
    "$$\n",
    "\n",
    "And the mass part of the lagrangian:\n",
    "\n",
    "$$\n",
    "-\\mathcal{L}_m = \\frac{v}{\\sqrt{2}} \\left(  M_l \\, \\bar{l}_L l_R + M_\\nu \\, \\bar{\\nu}_L \\nu_R + \\mathrm{hc} \\right)\n",
    "$$\n",
    "\n",
    "\n",
    "\n",
    "\n"
   ]
  },
  {
   "cell_type": "markdown",
   "metadata": {},
   "source": [
    "Now this do no taffect the NC of the lagrangian:\n",
    "\n",
    "$$\n",
    "- \\mathcal{L}_{NC} =  \\frac{g}{2 \\cos \\theta_W} \\bar{\\nu}'_{L} \\gamma^\\mu \\nu'_{L} Z_\\mu\n",
    "=  \\frac{g}{2 \\cos \\theta_W} \\bar{\\nu}_{L} \\gamma^\\mu \\nu_{L} Z_\\mu\n",
    "$$\n",
    "\n",
    "But it does the CC lagrangian:\n",
    "\n",
    "$$\n",
    "- \\mathcal{L}_{CC} = \n",
    "\\frac{g}{\\sqrt{2}} \\bar{l}'_{L} \\gamma^\\mu \\nu'_L W^+_\\mu + \\mathrm{h.c.} = \n",
    "\\frac{g}{\\sqrt{2}} \\bar{l}_{L}  \\gamma^\\mu (U^\\dagger_l U_\\nu) \\, \\nu_L W^+_\\mu + \\mathrm{h.c.}\n",
    "$$\n",
    "\n",
    "where the mixing matrix $U_{PMNS}$ is:\n",
    "\n",
    "$$\n",
    "U = U^\\dagger_l \\, U_\\nu\n",
    "$$"
   ]
  },
  {
   "cell_type": "markdown",
   "metadata": {},
   "source": [
    "This a unitary $3\\times3$ matrix with $3^2$ parameters, $3$ mixing angles, and $6$ phases. \n",
    "\n",
    "We can use the global symmetries of the Dirac fields to re-absorbe the some phases of ${\\bf U}$:\n",
    "\n",
    "$$\n",
    "l_\\alpha \\to e^{i\\phi_\\alpha} l_\\alpha, \\;\\;\\; \\nu_k \\to e^{i \\phi_k} \\nu_k\n",
    "$$\n",
    "\n",
    "The CC is:\n",
    "\n",
    "$$\n",
    "\\sum_{\\alpha, k} \\bar{l}_{\\alpha L} e^{-i\\phi_\\alpha} U^*_{\\alpha k} \\gamma^\\mu e^{i\\phi_k} \\nu_{k L} \\, W^+_\\mu + \\mathrm{hc}\n",
    "$$\n",
    "\n",
    "We can take a global factor:\n",
    "$$\n",
    "e^{-i(\\phi_e-\\phi_1)} \\sum_{k,\\alpha} \\bar{l}_{\\alpha L} \\gamma^\\mu \\, ( e^{-i(\\phi_\\alpha-\\phi_e)} U^*_{\\alpha k } \\gamma^\\mu e^{i(\\phi_k-\\phi_1)} ) \\, \\nu_{k L} W^+_\\mu + \\mathrm{hc}\n",
    "$$\n",
    "\n",
    "In total we can reabsorb $5$ phases. Therefore there is only one phase left $\\delta$.\n"
   ]
  },
  {
   "cell_type": "markdown",
   "metadata": {
    "slideshow": {
     "slide_type": "slide"
    }
   },
   "source": [
    "The usual parameterization of $U_{PMNS}$ in terms of 3 angles and one CP-phase:\n",
    "\n",
    "<img src=\"./imgs/Umatrix_dirac.png\" width = 600> "
   ]
  },
  {
   "cell_type": "markdown",
   "metadata": {
    "slideshow": {
     "slide_type": "slide"
    }
   },
   "source": [
    "### Majorana case\n",
    "\n",
    "In the Majorana case, we extend the SM with the Weinberg 5-dim operator:\n",
    "\n",
    "$$\n",
    "- \\mathcal{L}_m =  \\frac{\\alpha}{\\Lambda} \\,  \\bar{L} \\tilde{\\Phi} \\, \\tilde{\\Phi}^T L^c + \\mathrm{h.c.} \n",
    "$$\n",
    "\n",
    "After SSB:\n",
    "\n",
    "$$\n",
    "-\\mathcal{L}_m = \\frac{v}{\\sqrt{2}} \\left( \\lambda^M_\\nu \\bar{\\nu}^{'}_L {\\nu_L}^c + \\mathrm{hc} \\right)\n",
    "$$\n",
    "\n",
    "The symmetric complex $3\\times3$ $\\lambda^M$ matrix get diagonialized to the mass matrix $M^M_\\lambda$ with the unitary $U_\\nu$, there is no $V_\\nu$.\n",
    "\n",
    "$$\n",
    "\\lambda^M_\\nu = U^\\dagger_\\nu M^M_\\nu U^*_\\nu\n",
    "$$\n",
    "\n",
    "The mixing matrix $U$ have now 3 angles 3 phases. Because there is no global phase in the Majorana neutrinos spinors, and we can only reabsorb 3 phases.\n"
   ]
  },
  {
   "cell_type": "markdown",
   "metadata": {
    "slideshow": {
     "slide_type": "slide"
    }
   },
   "source": [
    "The Majorana mixing matrix is:\n",
    "    \n",
    "<img src=\"./imgs/Umatrix_majorana.png\" width = 800> \n",
    "    \n",
    "With $\\theta_{ij} \\in [0, \\pi/2]$ and $\\delta, \\eta_{1,2} \\in [0, 2\\pi)$\n",
    "\n",
    "*Question*: Show that the Majorana phases $\\eta_{1,2}$ have no effect in neutrino oscillations."
   ]
  },
  {
   "cell_type": "markdown",
   "metadata": {
    "slideshow": {
     "slide_type": "slide"
    }
   },
   "source": [
    "## Majorana Neutrinos\n",
    "\n",
    "<img src=\"./imgs/pidecay_majorana_dirac.png\" width = 700> \n",
    "\n",
    "How we can experimentally distinguish a Majorana neutrino?\n"
   ]
  },
  {
   "cell_type": "markdown",
   "metadata": {},
   "source": [
    "The curse of helicity.\n",
    "\n",
    "As neutrinos have positive helicity, its right-chiral component is supressed by $\\mathcal{O}(m/E)$.\n",
    "\n",
    "Consider $m \\; \\mathcal{O}(1)$ eV and $E \\; \\mathcal{O}(1)$ GeV, the probability of an oppossite sign lepton appereance is $\\mathcal{O}(10^{-18})$.\n",
    "    "
   ]
  },
  {
   "cell_type": "markdown",
   "metadata": {},
   "source": [
    "### double beta decay\n",
    "\n",
    "<img src=\"./imgs/bb0nu_Feynman.png\" width = 500> \n",
    "\n",
    "\n",
    "The experimentally accesible experiment, is the hypothetetical vary rare double beta decay without neutrinos\n",
    "\n"
   ]
  },
  {
   "cell_type": "markdown",
   "metadata": {
    "slideshow": {
     "slide_type": "slide"
    }
   },
   "source": [
    "The $\\beta\\beta2 \\nu$ (with neutrinos) was proposed [1] by [M. Goeppert-Mayer](https://en.wikipedia.org/wiki/Maria_Goeppert-Mayer) in 1935.\n",
    "\n",
    "$$\n",
    "(A, Z) \\to (A, Z+ 2) + 2 e^- + 2 \\bar{\\nu}_e + Q_{\\beta\\beta}\n",
    "$$\n",
    "\n",
    "This is a second order decay, that happens in 18 isotopes, where $\\beta$ is kinematically forbiden.\n",
    "\n",
    "In particular in: $^{48}$Ca, $^{76}$Ge, $^{82}$Se, $^{100}$Mo, $^{130}$Te and $^{136}$Xe. \n",
    "\n",
    "The half-life is quite large $\\mathcal{O}(10^{-19})$ y"
   ]
  },
  {
   "cell_type": "markdown",
   "metadata": {
    "slideshow": {
     "slide_type": "slide"
    }
   },
   "source": [
    "<img src=\"./imgs/bb2nu_isotopes_T12.pdf\" width = 500 > \n"
   ]
  },
  {
   "cell_type": "markdown",
   "metadata": {
    "slideshow": {
     "slide_type": "slide"
    }
   },
   "source": [
    "\n",
    "In 1939 W. Furry proposed [2] the hypothetical decay $\\beta\\beta 0\\nu$ if $\\nu$ are Majorana\n",
    "\n",
    "$$\n",
    "(A, Z) \\to (A, Z+ 2) + 2 e^-  + Q_{\\beta\\beta}\n",
    "$$\n",
    "\n",
    "The half-life time of this decay is:\n",
    "$$\n",
    "(T^{0\\nu}_{1/2})^{-1} = G^{0\\nu} \\, \\left| M^{0\\nu} \\right|^2 \\, \\frac{m^2_{\\beta\\beta}}{m^2_e}\n",
    "$$\n",
    "\n",
    "Where $G^{0\\nu}$ is the phase factor, and $\\left| M^{0\\nu} \\right|^2$, the matrix elemment squared\n",
    "$$\n",
    "m_{\\beta\\beta} = \\left| \\sqrt{\\sum_i U^2_{ei} \\, m^2_i} \\right|\n",
    "$$\n",
    "\n",
    "Is the effective majorana mass which depends of the elements of the mixing matrix $U_{ei}$\n"
   ]
  },
  {
   "cell_type": "markdown",
   "metadata": {
    "slideshow": {
     "slide_type": "slide"
    }
   },
   "source": [
    "<img src=\"./imgs/bb0nu_table_G0nu_Qbb.png\" width = 500> \n",
    "\n",
    "$G^{0\\nu} \\sim \\, \\mathcal{O}(10^{-26})$ y/eV$^2$"
   ]
  },
  {
   "cell_type": "markdown",
   "metadata": {
    "slideshow": {
     "slide_type": "slide"
    }
   },
   "source": [
    "\n",
    "<img src=\"./imgs/bb0nu_M.png\" width = 500> \n",
    "\n",
    "The matrix element has a large uncertainty theoretical error.\n",
    "\n",
    "$M^{0\\nu} \\sim \\, \\mathcal{O}(1)$"
   ]
  },
  {
   "cell_type": "markdown",
   "metadata": {
    "slideshow": {
     "slide_type": "slide"
    }
   },
   "source": [
    "In NH:\n",
    "    \n",
    "$$\n",
    "m_{\\beta\\beta} = \\left| m_0 c^2_{12} c^2_{13} + \\sqrt{m^2_0 + \\Delta m^2_{21}} \\, s^2_{12} c^2_{13} e^{2i (\\eta_2 -\\eta_1)} + \\sqrt{m^2_0 + \\Delta m^2_{32} + \\Delta m^2_{21}} \\, s^2_{13} e^{-2i(\\delta_{CP} + \\eta_1)}\\right|\n",
    "$$\n",
    "\n",
    "In IH:\n",
    "\n",
    "$$\n",
    "m_{\\beta\\beta} = \\left| m_0  s^2_{13} + \\sqrt{m^2_0 - \\Delta m^2_{32}} \\, s^2_{12} c^2_{13} e^{2i (\\eta_2 + \\delta_{CP})} + \\sqrt{m^2_0 - \\Delta m^2_{32} - \\Delta m^2_{21}} \\, c^2_{12} c^2_{13} e^{2i(\\eta_1 + \\delta_{CP})}\\right|\n",
    "$$\n",
    "\n"
   ]
  },
  {
   "cell_type": "markdown",
   "metadata": {
    "slideshow": {
     "slide_type": "slide"
    }
   },
   "source": [
    "In the limit $m_0 \\to 0$\n",
    "\n",
    "in NH:\n",
    "\n",
    "$$\n",
    "m_{\\beta\\beta} \\simeq \\left| \\sqrt{\\Delta m^2_{21}} \\, s^2_{12} c^2_{13} + \\sqrt{\\Delta m^2_{32}} \\, s^2_{13} e^{-2i(\\delta_{CP} + \\eta_2 )} \\right| \\simeq 1.1 - 4.2 \\; \\mathrm{meV}\n",
    "$$\n",
    "\n",
    "In IH:\n",
    "\n",
    "$$\n",
    "m_{\\beta\\beta} \\simeq \\ \\sqrt{|\\Delta m^2_{32}|} \\, c^2_{13} \\left| s^2_{12} + \\, c^2_{12} e^{-2i(\\eta_2 - \\eta_1)}\\right| \\ge \\sqrt{|\\Delta m^2_{32}|} \\, c^2_{13} \\cos^2 2\\theta_{12} \\simeq 15 - 50 \\; \\mathrm{meV}\n",
    "$$\n"
   ]
  },
  {
   "cell_type": "markdown",
   "metadata": {
    "slideshow": {
     "slide_type": "slide"
    }
   },
   "source": [
    "*Question:* Compute $T^{0\\nu}_{1/2}$ for $^{136}$Xe"
   ]
  },
  {
   "cell_type": "code",
   "execution_count": 6,
   "metadata": {},
   "outputs": [
    {
     "name": "stdout",
     "output_type": "stream",
     "text": [
      "life-time  8.080808080808078e+26  y\n"
     ]
    }
   ],
   "source": [
    "G0nu, M0nu, mbb = 5.5e-26, 3, 50e-3\n",
    "T0nu = 1./(G0nu * M0nu**2 * mbb**2)\n",
    "print('life-time ', T0nu, ' y')\n"
   ]
  },
  {
   "cell_type": "markdown",
   "metadata": {
    "slideshow": {
     "slide_type": "slide"
    }
   },
   "source": [
    "<img src=\"./imgs/mbb_vs_MH.png\" width = 800> "
   ]
  },
  {
   "cell_type": "markdown",
   "metadata": {},
   "source": [
    "<img src=\"./imgs/mbb_vs_mlight.png\" width = 500> \n",
    "\n",
    "The majorana mass vs the lightest neutrino (in Normal or Inverted Hierarchy).\n",
    "\n",
    "Values of $U_{\\alpha i}$ from NuFit group 2019."
   ]
  },
  {
   "cell_type": "markdown",
   "metadata": {
    "slideshow": {
     "slide_type": "slide"
    }
   },
   "source": [
    "### Experimental signature\n",
    "\n",
    "\n",
    "<img src=\"./imgs/bb2nu_bb0nu_spectrum.png\" width = 500> \n",
    "\n",
    "\n",
    "- Signature: 2 electrons with monocromatic energy at $Q_{\\beta\\beta}$\n"
   ]
  },
  {
   "cell_type": "markdown",
   "metadata": {
    "slideshow": {
     "slide_type": "slide"
    }
   },
   "source": [
    "Number of expected $\\beta\\beta2\\nu$ events:\n",
    "\n",
    "$$\n",
    "N_{\\beta\\beta} = \\ln(2) \\frac{N_A}{W} \\frac{a \\epsilon M t}{T^{0\\nu}_{1/2}}\n",
    "$$\n",
    "\n",
    "where $N_A$ is Avogradro's number, $W$ is the molar mass, $a$ the isotopic abundance, $\\epsilon$ the detection efficiency in the RoI, $t$ the time of exposure, $M$ the target mass and $T^{0\\nu}_{1/2}$ the half-live.\n",
    "\n",
    "The number of events depends on the exposure: $M \\, t$ (ton y)"
   ]
  },
  {
   "cell_type": "markdown",
   "metadata": {
    "slideshow": {
     "slide_type": "slide"
    }
   },
   "source": [
    "*question:* Compute the number of events expected in 100 kg 1 ton of $^{136}$Xenon at 90% abundance vs the $T^{0\\nu}_{1/2}$ "
   ]
  },
  {
   "cell_type": "code",
   "execution_count": 18,
   "metadata": {
    "slideshow": {
     "slide_type": "slide"
    }
   },
   "outputs": [
    {
     "name": "stdout",
     "output_type": "stream",
     "text": [
      "Nbb =  2.209100837808108\n"
     ]
    }
   ],
   "source": [
    "NA, acc, eff, W = 6.02e23, 0.9, 0.8, 136.\n",
    "T0nu, M, t = 1e26, 1e5, 1\n",
    "nbb = np.log(2.) * NA * acc * eff * M * t / (W * T0nu)\n",
    "print('Nbb = ', nbb)"
   ]
  },
  {
   "cell_type": "markdown",
   "metadata": {
    "slideshow": {
     "slide_type": "slide"
    }
   },
   "source": [
    "The signal is identified:\n",
    "\n",
    "  - energy resolutiion $\\Delta E = \\mathrm{FWHM} = 2{\\sqrt {2\\ln 2}}\\;\\sigma \\simeq 2.355 \\;\\sigma$\n",
    "  \n",
    "  - other discrimination variables: i.e tracks (2 $\\beta$)"
   ]
  },
  {
   "cell_type": "markdown",
   "metadata": {
    "slideshow": {
     "slide_type": "slide"
    }
   },
   "source": [
    "The background comes from different sources (mostly gamma interactions in the detector):\n",
    " \n",
    "  - natural radioactivity (U, Th radio-active chains). Ultra radio-pure materials and handeling.\n",
    "  \n",
    "  - $^{220-222}$Rn natural radioactivity. Abatement systems, degasing of materials\n",
    "  \n",
    "  - cosmogenic muons (spalation). Detector installed underground and with veto-system\n",
    "  \n",
    "  - neutrinos from the rock (activation). Detector inner shielding."
   ]
  },
  {
   "cell_type": "markdown",
   "metadata": {
    "slideshow": {
     "slide_type": "slide"
    }
   },
   "source": [
    "<img src=\"./imgs/Th232_chain.png\" width = 450 align='left'> \n",
    "<img src=\"./imgs/U238_chain.png\" width = 450 align='right'> "
   ]
  },
  {
   "cell_type": "markdown",
   "metadata": {},
   "source": [
    "<img src=\"./imgs/muflux_undergroundlabs.png\" width = 450 align='center'> "
   ]
  },
  {
   "cell_type": "markdown",
   "metadata": {
    "slideshow": {
     "slide_type": "slide"
    }
   },
   "source": [
    "The bacground events depends in the background-index, $b$, in counts/(ton y keV).\n",
    "\n",
    "And the RoI (FWHM, $\\Delta E$) in keV\n",
    "\n",
    "$$\n",
    "N_{bkg} \\propto b \\, \\Delta E \\, M \\, t\n",
    "$$"
   ]
  },
  {
   "cell_type": "markdown",
   "metadata": {},
   "source": [
    "\n",
    "The sensitivity, $S^{0\\nu}$, of an experiments (the Z-number, number of sigmas, of the $\\beta\\beta0\\nu$ events above the fluctuation of number of background events has two domains:\n",
    "\n",
    " i) background free experiment\n",
    " \n",
    " $$\n",
    " S^{0\\nu} \\propto \\epsilon \\, M \\, t\n",
    " $$\n",
    " \n",
    " ii) expected background index, $b$\n",
    " \n",
    " $$\n",
    " S^{0\\nu} \\propto \\epsilon \\sqrt{\\frac{M \\, t}{b \\Delta E}}\n",
    " $$"
   ]
  },
  {
   "cell_type": "markdown",
   "metadata": {
    "slideshow": {
     "slide_type": "slide"
    }
   },
   "source": [
    "*question*: Show the dependence of $S^{0\\nu}$ as a function of $b$ for different $\\Delta m^2$"
   ]
  },
  {
   "cell_type": "markdown",
   "metadata": {
    "slideshow": {
     "slide_type": "slide"
    }
   },
   "source": [
    "## Search for Majorana Neutrinos\n",
    "\n"
   ]
  },
  {
   "cell_type": "markdown",
   "metadata": {
    "slideshow": {
     "slide_type": "slide"
    }
   },
   "source": [
    "### EXO-200\n",
    "\n"
   ]
  },
  {
   "cell_type": "markdown",
   "metadata": {
    "slideshow": {
     "slide_type": "slide"
    }
   },
   "source": [
    "----\n",
    "\n",
    "## References\n",
    "---\n",
    "\n",
    "[1] M. Goeppert-Mayer, Phys. Rev. 48 (1935) 512.\n",
    "\n",
    "[2] W. Furry, Phys. Rev. 56 (1939) 1184.\n",
    "\n",
    "[] A. Gando et al. (KamLAND-Zen), Phys. Rev. Lett. 117, 8, 082503 (2016), [Addendum: Phys.\n",
    "Rev. Lett.117,no.10,109903(2016)], [arXiv:1605.02889].\n",
    "\n",
    "[228] M. Agostini et al. (GERDA), Science 365, 1445 (2019), [arXiv:1909.02726].\n",
    "[229] S. I. Alvis et al. (Majorana) (2019), [arXiv:1902.02299].\n",
    "[230] S. Andringa et al. (SNO+), Adv. High Energy Phys. 2016, 6194250 (2016),\n",
    "[arXiv:1508.05759].\n",
    "[231] G. Anton et al. (EXO-200) (2019), [arXiv:1906.02723].\n",
    "[232] J. Renner et al. (NEXT), JINST 13, 10, P10020 (2018), [arXiv:1808.01804].\n",
    "[233] C. Alduino et al. (CUORE), Phys. Rev. Lett. 120, 13, 132501 (2018), [arXiv:1710.07988].\n",
    "[234] O. Azzolini et al. (CUPID), Phys. Rev. Lett. 123, 3, 032501 (2019), [arXiv:1906.05001].\n",
    "[235] V. Alenkov et al., Eur. Phys. J. C79, 9, 791 (2019), [arXiv:1903.09483].\n"
   ]
  },
  {
   "cell_type": "markdown",
   "metadata": {
    "slideshow": {
     "slide_type": "slide"
    }
   },
   "source": [
    "---------"
   ]
  },
  {
   "cell_type": "markdown",
   "metadata": {
    "slideshow": {
     "slide_type": "slide"
    }
   },
   "source": [
    "\n",
    "Leptons in the SM:\n",
    "\n",
    "$$\n",
    "L_e= \\begin{pmatrix} \\nu_{eL} \\\\ e_L \\end{pmatrix}, \\, \n",
    "L_\\mu = \\begin{pmatrix} \\nu_{\\mu L} \\\\ \\mu_L  \\end{pmatrix}, \\,\n",
    "L_\\tau = \\begin{pmatrix} \\nu_{\\tau L} \\\\ \\tau_L  \\end{pmatrix}; \\;\n",
    "e_R, \\mu_R, \\tau_R \n",
    "$$\n",
    "\n",
    "Neutrinos in the SM:\n",
    "\n",
    "- they only interact weakly!\n",
    "\n",
    "$$s = 1/2, \\, m = 0, \\; q = 0, \\;T_3 = 1/2, \\; Y = -1/2$$\n",
    "\n",
    "- they are $\\nu_L$, left-chirality neutrinos, and $\\bar{\\nu}_R$, right-chirality anti-neutrinos. \n",
    "\n",
    "- neutrinos are massless! There is no $\\nu_R$ to intriduce the mass in the legrangian:\n",
    "\n",
    "$$-\\mathcal{L}_{Dirac} = - m \\, \\bar{\\nu} \\nu = - m (\\bar{\\nu_L}  \\nu_R + \\bar{\\nu_R} \\nu_L)$$"
   ]
  },
  {
   "cell_type": "markdown",
   "metadata": {
    "slideshow": {
     "slide_type": "slide"
    }
   },
   "source": [
    "\n",
    "<img src=\"./imgs/nu_cc_nc_feynman_rules.png\" width = 400>\n",
    "\n",
    "\n",
    "\n",
    "Neutrino interacts only via this interactions lagrangian, CC $W^\\pm$) or NC ($Z$), :\n",
    "\n",
    "$$\n",
    "\\mathcal{L}_{CC} = - \\frac{g}{\\sqrt{2}} \\sum_{\\alpha = e, \\mu, \\tau} \\bar{\\nu}_{\\alpha L} \\gamma^\\mu l_{\\alpha L} W_\\mu + \\mathrm{h.c.}, \\;\\;\\;\n",
    "\\mathcal{L}_{NC} = - \\frac{g}{2 \\cos \\theta_W} \\bar{\\nu}_{\\alpha L} \\gamma^\\mu \\nu_{\\alpha L} Z_\\mu\n",
    "$$\n",
    "\n",
    "where $g$ is the weak constant and $\\theta_W$ the Weiberg angle. \n",
    "\n",
    "The V-A structure is explicit in the interaction lagrangian.\n",
    "\n"
   ]
  },
  {
   "cell_type": "markdown",
   "metadata": {
    "slideshow": {
     "slide_type": "fragment"
    }
   },
   "source": [
    "\n",
    "- The lepton Number in the SM is (accidently) preserved. \n",
    "\n",
    "- Futhermore, Flavour Lepton Number is also accidentally preserved: electronic, muonic and tauonic."
   ]
  },
  {
   "cell_type": "markdown",
   "metadata": {
    "slideshow": {
     "slide_type": "slide"
    }
   },
   "source": [
    "### Neutrinos in Nature\n",
    "\n",
    "Neutrinos in Nature:\n",
    "\n",
    "- they have no color, no electric charge, and a tiny mass!\n",
    "\n",
    "$$s = 1/2, \\, m \\le \\mathcal{O}(eV), \\; q = 0; \\; T_3 = 1/2, \\; Y = -1/2$$\n",
    "\n",
    "- the $\\nu_L$, left-chirality, are called 'neutrinos' and $\\bar{\\nu}_R$, right-chirality, 'antineutrinos'\n",
    "\n",
    "- there are three light neutrino flavours, $\\nu_e, \\nu_\\mu, \\, \\nu_\\tau$."
   ]
  },
  {
   "cell_type": "markdown",
   "metadata": {
    "slideshow": {
     "slide_type": "slide"
    }
   },
   "source": [
    "\n",
    "- Neutrinos oscillates between different flavours.\n",
    "\n",
    "- Neutrinos do no preserve flavour leptonic number, and may preserve leptonic number\n",
    "\n",
    "- There is a mixing neutrino matrix, $U_{PMNS}$, Pontecorbo-Maki-Nakagawa-Sakata, with three angles and one CP phase (if neutrinos are Dirac).\n",
    "\n",
    "- Their masses are unknown. But there values are very small compared with the rest of the leptons $m_\\nu \\ll m_e$. \n",
    "\n",
    "- We need to complete the SM to include neutrinos masses: either Dirac (extended SM) or Majorana (BSM)."
   ]
  },
  {
   "cell_type": "markdown",
   "metadata": {
    "slideshow": {
     "slide_type": "slide"
    }
   },
   "source": [
    "### About Dirac neutrinos\n",
    "\n",
    "\n",
    "A Dirac spinor fulfills the Dirac equation and it can be decomposed into left and handled chirality parts:\n",
    "\n",
    "$$\n",
    "\\Psi =\\Psi_L + \\Psi_R \n",
    "$$\n",
    "And the parity transformation reverts them:\n",
    "$$\n",
    "\\mathcal{P}: \\;\\; \\Psi_L \\leftrightarrow \\Psi_R\n",
    "$$\n",
    "Therefore, a parity conserving theory introduces both in equal footing."
   ]
  },
  {
   "cell_type": "markdown",
   "metadata": {
    "slideshow": {
     "slide_type": "subslide"
    }
   },
   "source": [
    "\n",
    "In the chiral representation, a Dirac spinor is composed of two Weyl spinors $\\psi_L, \\psi_R$:\n",
    "\n",
    "$$\n",
    "\\Psi = \\begin{pmatrix} \\psi_L \\\\ \\psi_R \\end{pmatrix}\n",
    "$$\n",
    "\n",
    "They admit a phase redefinition, without physical consequences\n",
    "\n",
    "$$\n",
    "\\Psi' = e^{i\\theta} \\Psi\n",
    "$$\n",
    "\n",
    "This global simmetry is associated to a conserved charge, electric charge, lepton number, etc.\n",
    "\n",
    "A mass term in the lagrangian has the form:\n",
    "\n",
    "$$\n",
    " - m \\bar{\\Psi} \\Psi  =  - m \\left(\\bar{\\Psi}_L \\Psi_R + \\bar{\\Psi}_R \\Psi_L \\right)\n",
    "$$\n",
    "\n"
   ]
  },
  {
   "cell_type": "markdown",
   "metadata": {
    "slideshow": {
     "slide_type": "slide"
    }
   },
   "source": [
    "\n",
    "As the left-chiral fields are in a duplet of $SU(2)_L$, in order to preserve the original gauge invariant, we introduce an interaction with the Higgs doublet. \n",
    "\n",
    "Let's consider first one family, for charged leptons, the mass term\n",
    "\n",
    "$$\n",
    "\\lambda_e \\bar{L}_e \\Phi \\, e_R + \\mathrm{h.c.}\n",
    "$$\n",
    "\n",
    "where $\\lambda_e$ is an adimensional constant, the electron Yukawa coupling.\n",
    "\n",
    "And\n",
    "\n",
    "$$\n",
    "L_e = \\begin{pmatrix} \\nu_{eL} \\\\ e_L \\end{pmatrix}, \\; \n",
    "\\Phi = \\begin{pmatrix} \\phi^+ \\\\ \\Phi^0 \\end{pmatrix}\n",
    "$$\n",
    "\n",
    "\n"
   ]
  },
  {
   "cell_type": "markdown",
   "metadata": {
    "slideshow": {
     "slide_type": "subslide"
    }
   },
   "source": [
    "\n",
    "After spontaneous symmetry breaking (SSB), in the unitary gauge:\n",
    "\n",
    "$$\n",
    "\\langle \\Phi \\rangle = \\begin{pmatrix} 0 \\\\ \\frac{v}{\\sqrt{2}}\\end{pmatrix}\n",
    "$$\n",
    "where $v$ is the Higgs expectation value.\n",
    "\n",
    "We get:\n",
    "$$\n",
    "\\frac{\\lambda_e v}{\\sqrt{2}} ( \\bar{e}_L e_R + \\bar{e}_R e_L ) = m_e \\, \\bar{e} e\n",
    "$$\n",
    "\n",
    "where:\n",
    "$$\n",
    "m_e = \\lambda_e \\frac{v}{\\sqrt{2}}\n",
    "$$"
   ]
  },
  {
   "cell_type": "markdown",
   "metadata": {
    "slideshow": {
     "slide_type": "slide"
    }
   },
   "source": [
    "\n",
    "We can generate a mass for a Dirac neutrino, using the Higgs charge conjugate, in the unitary gauge:\n",
    "\n",
    "$$\n",
    "\\tilde{\\Phi} = i \\sigma^2 \\Phi^* \\rightarrow\n",
    "\\langle \\tilde{\\Phi} \\rangle = \\begin{pmatrix} \\frac{v}{\\sqrt{2}}  \\\\ 0 \n",
    "\\end{pmatrix}\n",
    "$$\n",
    "\n",
    "The possible mass terms of the lagrangian is:\n",
    "\n",
    "$$\n",
    "\\lambda_{\\nu} \\bar{L}_e \\tilde{\\Phi} \\nu_{eR} + h.c.\n",
    "$$\n",
    "\n",
    "that will result on a mass term:\n",
    "\n",
    "$$\n",
    "\\lambda_\\nu \\frac{v}{\\sqrt{2}} (\\bar{\\nu_L} \\nu_R + \\bar{\\nu_R} \\nu_L) = m_\\nu \\, \\bar{\\nu}_e \\nu_e\n",
    "$$\n",
    "\n",
    "\n"
   ]
  },
  {
   "cell_type": "markdown",
   "metadata": {
    "slideshow": {
     "slide_type": "slide"
    }
   },
   "source": [
    "### About Majorana neutrinos\n",
    "\n",
    "A Majorana spinor is a solution of the Dirac equation. \n",
    "\n",
    "In nature all fermios are Dirac. The only one that can be Majorana is the neutrino.\n",
    "\n",
    "A Majorana spinor is its own charge conjugate:\n",
    "\n",
    "$$\n",
    "\\Psi_M = \\Psi + \\Psi^c\n",
    "$$\n",
    "\n",
    "Where, the charge conjugation operation $\\mathcal{C}$ is:\n",
    "\n",
    "$$\n",
    "\\Psi^c = -i \\gamma^2 \\Psi^*\n",
    "$$\n",
    "\n",
    "If $\\Psi$ is a left (right) chiral spinor $\\Psi_L$, the charge conjugate, $\\Psi_L^c$ is a right (left) chiral one:\n",
    "\n"
   ]
  },
  {
   "cell_type": "markdown",
   "metadata": {
    "slideshow": {
     "slide_type": "slide"
    }
   },
   "source": [
    "\n",
    "A Majorana spinor can be constructed from a single left (right) Weyl spinor $\\psi_L$, using its charge conjugate: \n",
    "\n",
    "$$\n",
    "\\psi^c_L \\to i \\sigma^2 \\psi^*_L\n",
    "$$\n",
    "\n",
    "That transforms as a right-handed Weyl spinor. The Majorana spinor is:\n",
    "\n",
    "$$\n",
    "\\Psi_M = \\begin{pmatrix} \\psi_L  \\\\ i \\sigma^2 \\psi^*_L \\end{pmatrix}\n",
    "$$\n",
    "\n",
    "That fulfills the condition:\n",
    "$$\n",
    "\\Psi^c_M = \\Psi_M\n",
    "$$\n",
    "And it is own antiparticle"
   ]
  },
  {
   "cell_type": "markdown",
   "metadata": {
    "slideshow": {
     "slide_type": "slide"
    }
   },
   "source": [
    "\n",
    "There is no global phase symmetry for a Majorana spinor.\n",
    "\n",
    "$$\n",
    "\\psi'_L = e^{i\\theta} \\psi_L, \\;\\;\\; (\\psi'_L)^c = e^{-i \\theta} i \\sigma^2 \\psi^*_L = e^{-i\\theta} \\psi^c_L\n",
    "$$\n",
    "\n",
    "$$\n",
    "\\Psi'_M = \\begin{pmatrix} e^{i\\theta }\\; \\psi_L  \\\\ e^{-i \\theta} \\; i \\sigma^2 \\psi^*_L \\end{pmatrix}\n",
    "$$\n",
    "\n",
    "And therefore there are no charge conserved. The Majorana spinor is a truly neutral particle!\n"
   ]
  },
  {
   "cell_type": "markdown",
   "metadata": {
    "slideshow": {
     "slide_type": "slide"
    }
   },
   "source": [
    "The mass term for left-chiral neutrinos will be:\n",
    "\n",
    "$$\n",
    "-\\frac{m}{2} \\left( \\overline{\\nu_L }\\nu^c_L + \\overline{\\nu^c_L} \\nu_L \\right)\n",
    "$$\n",
    "\n",
    "As $\\nu_L$ are part of duplet $SU(2)_L$ in the SM, in order to preserve the gauge symmetry, the simplest term to generate the mass is to include a *double* interaction with a scalar Higgs. \n",
    "\n",
    "$$\n",
    "\\mathcal{L}_W = - \\frac{\\alpha}{\\Lambda} \\,  \\bar{L} \\tilde{\\Phi} \\, \\tilde{\\Phi}^T L^c + \\mathrm{h.c.} \n",
    "$$\n",
    "\n",
    "where $\\alpha$ is a dimensionless coupling and $\\Lambda$ an energy scale.\n",
    "\n",
    "This is known as the Weinberg operator. It is the only 5-dim operation that extends the SM.    "
   ]
  },
  {
   "cell_type": "markdown",
   "metadata": {
    "slideshow": {
     "slide_type": "subslide"
    }
   },
   "source": [
    "After the SSB. It translates to:\n",
    "$$\n",
    " \\mathcal{L}_W = \\frac{\\alpha v^2}{\\Lambda} (\\overline{\\nu_L} \\nu^c_L + \\overline{\\nu^c_L} \\nu_L)\n",
    "$$\n",
    "\n",
    "\n",
    "Now the neutrino smalleness of the neutrino mass cal be explained via the energy scale $\\Lambda$, the coupling $\\alpha$ or both."
   ]
  },
  {
   "cell_type": "markdown",
   "metadata": {
    "slideshow": {
     "slide_type": "slide"
    }
   },
   "source": [
    "### Some urgent questions\n",
    "\n",
    "- Is there a CP phase in the neutrino sector?\n",
    "\n",
    "- Is the neutrino its own antiparticle. Is Dirac or Majorana? \n",
    "\n",
    "- What is the neutrino mass? What is the neutrino mass hierarchy?\n",
    "\n",
    "- Why the neutrino mass is so small? Is there a new energy scale, $\\Lambda$, related with neutrino masses?"
   ]
  },
  {
   "cell_type": "markdown",
   "metadata": {
    "slideshow": {
     "slide_type": "slide"
    }
   },
   "source": [
    "The different scale of neutrino masses compared with other fermions may be an indication of a new scale of energy.\n",
    "<img src=\"./imgs/nu_mass_scale.png\" width = 600>"
   ]
  },
  {
   "cell_type": "markdown",
   "metadata": {
    "slideshow": {
     "slide_type": "slide"
    }
   },
   "source": [
    "*** \n",
    "## Index\n",
    "\n",
    "* [Neutrinos in the SM](./nu_sm.ipynb)\n",
    "    \n",
    "* [Neutrino oscillations](./nu_oscillations.ipynb)\n",
    "\n",
    "* [Majorana neutrinos](./nu_majorana.ipynb)"
   ]
  },
  {
   "cell_type": "markdown",
   "metadata": {
    "slideshow": {
     "slide_type": "slide"
    }
   },
   "source": [
    "***\n",
    "\n",
    "## Bibliography\n",
    "\n",
    "### books\n",
    "\n",
    "A. Bettini, *\"Introduction to Elementary Particle Physics\"*, [Cambridge (2008)](https://www.cambridge.org/core/books/introduction-to-elementary-particle-physics/FB7841E74DFEE051D81AD953E81E10DE)\n",
    "\n",
    "M. Thomson, *\"Modern Particle Physics\"*, [Cambridge (2013)](https://www.cambridge.org/core/books/modern-particle-physics/CDFEBC9AE513DA60AA12DE015181A948) \n",
    "\n",
    "J. Bahcall, *\"Neutrino Astrophysics\"*, [Cambridge (19889)](https://www.cambridge.org/es/academic/subjects/physics/astrophysics/neutrino-astrophysics?format=PB)\n",
    "\n",
    "C. Giunti and C. W. Kim, *\"Fundamentals of Neutrino Physics and Astrophysics\"*, [Oxford (2007)](https://global.oup.com/academic/product/fundamentals-of-neutrino-physics-and-astrophysics-9780198508717?cc=es&lang=en&)"
   ]
  },
  {
   "cell_type": "markdown",
   "metadata": {
    "slideshow": {
     "slide_type": "slide"
    }
   },
   "source": [
    "\n",
    "### reviews\n",
    "\n",
    "C. Gonzalez-García, M. Yokoyama, *\"Neutrino Masses, Mixing, and Oscillations\"*, 2019, [PDG review 2019](http://pdg.lbl.gov/2019/reviews/rpp2019-rev-neutrino-mixing.pdf)\n",
    "\n",
    "S. Pascolli, *\"Neutrino physics\"*, CERN Yellow Rep. School Proc. 6 (2019) 213-259 [CERN-2019-006](http://cds.cern.ch/record/2702845)\n",
    "\n",
    "P. Hernandez, *“Neutrino Physics”*, CERN Yellow Report CERN 2015-005, 2027, [arXiv:1708.01046](https://arxiv.org/abs/1708.01046)\n",
    "\n",
    "S. Bilenky, *\"Neutrino oscillations: brief history and present status\"*, 2014, [arXiv:1408.2864](https://arxiv.org/abs/1408.2864)\n"
   ]
  }
 ],
 "metadata": {
  "anaconda-cloud": {},
  "celltoolbar": "Slideshow",
  "kernelspec": {
   "display_name": "Python 3",
   "language": "python",
   "name": "python3"
  },
  "language_info": {
   "codemirror_mode": {
    "name": "ipython",
    "version": 3
   },
   "file_extension": ".py",
   "mimetype": "text/x-python",
   "name": "python",
   "nbconvert_exporter": "python",
   "pygments_lexer": "ipython3",
   "version": "3.7.3"
  }
 },
 "nbformat": 4,
 "nbformat_minor": 1
}
